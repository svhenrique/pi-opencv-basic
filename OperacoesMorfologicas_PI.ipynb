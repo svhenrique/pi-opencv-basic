{
  "nbformat": 4,
  "nbformat_minor": 0,
  "metadata": {
    "colab": {
      "name": "OperacoesMorfologicas-PI.ipynb",
      "provenance": [],
      "collapsed_sections": [
        "m88w6mrOPG06",
        "PeGk-BuVxrI0"
      ],
      "authorship_tag": "ABX9TyMEt0n7iP3Yfbp9Mr+AD5WQ",
      "include_colab_link": true
    },
    "kernelspec": {
      "display_name": "Python 3",
      "name": "python3"
    },
    "language_info": {
      "name": "python"
    }
  },
  "cells": [
    {
      "cell_type": "markdown",
      "metadata": {
        "id": "view-in-github",
        "colab_type": "text"
      },
      "source": [
        "<a href=\"https://colab.research.google.com/github/svhenrique/pi-opencv-basic/blob/main/OperacoesMorfologicas_PI.ipynb\" target=\"_parent\"><img src=\"https://colab.research.google.com/assets/colab-badge.svg\" alt=\"Open In Colab\"/></a>"
      ]
    },
    {
      "cell_type": "markdown",
      "metadata": {
        "id": "W-DLjOBUc-RJ"
      },
      "source": [
        "Fontes:\n",
        "\n",
        "*   https://towardsdatascience.com/intuitively-understanding-convolutions-for-deep-learning-1f6f42faee1\n",
        "*   https://www.mathworks.com/help/images/morphological-dilation-and-erosion.html\n",
        "*   https://www.geeksforgeeks.org/erosion-dilation-images-using-opencv-python/\n",
        "*   https://docs.opencv.org/master/d4/d76/tutorial_js_morphological_ops.html\n",
        "\n"
      ]
    },
    {
      "cell_type": "code",
      "metadata": {
        "colab": {
          "base_uri": "https://localhost:8080/"
        },
        "id": "P1kHZUflJKE-",
        "outputId": "10394002-14de-44c2-9e07-72d88cd309f3"
      },
      "source": [
        "# detectando drive\n",
        "from google.colab import drive\n",
        "\n",
        "# Accessing My Google Drive\n",
        "drive.mount('/content/drive')"
      ],
      "execution_count": 4,
      "outputs": [
        {
          "output_type": "stream",
          "name": "stdout",
          "text": [
            "Mounted at /content/drive\n"
          ]
        }
      ]
    },
    {
      "cell_type": "code",
      "metadata": {
        "id": "NsUmZZq-3NhP"
      },
      "source": [
        "# importando bibliotecas \n",
        "import cv2\n",
        "import numpy as np\n",
        "from google.colab.patches import cv2_imshow\n",
        "import os\n",
        "from PIL import Image"
      ],
      "execution_count": 5,
      "outputs": []
    },
    {
      "cell_type": "markdown",
      "metadata": {
        "id": "m88w6mrOPG06"
      },
      "source": [
        "## Preparando imagens "
      ]
    },
    {
      "cell_type": "code",
      "metadata": {
        "id": "K25oT-3GPJzt"
      },
      "source": [
        "# caminho de pasta imagens\n",
        "image_path = \"/content/drive/My Drive/images/\""
      ],
      "execution_count": 9,
      "outputs": []
    },
    {
      "cell_type": "code",
      "metadata": {
        "colab": {
          "base_uri": "https://localhost:8080/"
        },
        "id": "wpx3j0vQBGhh",
        "outputId": "c773b517-3058-416b-9578-58a72e3b6a93"
      },
      "source": [
        "os.listdir(image_path)"
      ],
      "execution_count": 10,
      "outputs": [
        {
          "output_type": "execute_result",
          "data": {
            "text/plain": [
              "['coins.jpg', 'lena.jpg', 'prima.jpeg']"
            ]
          },
          "metadata": {},
          "execution_count": 10
        }
      ]
    },
    {
      "cell_type": "code",
      "metadata": {
        "colab": {
          "base_uri": "https://localhost:8080/",
          "height": 0
        },
        "id": "goeE6CNOPcO6",
        "outputId": "20c5ace1-8e64-4db4-9eb0-a2b6d928bc55"
      },
      "source": [
        "# lendo imagem e convertendo para preto e branco (binário)\n",
        "# lembrando que a converção para preto e branco (binário) utiliza pesos com resultados empíricos\n",
        "lena = cv2.imread(image_path + 'lena.jpg')\n",
        "lena = cv2.resize(lena, None, fx=.52, fy=.52)\n",
        "lena = cv2.cvtColor(lena, cv2.COLOR_BGR2GRAY)\n",
        "ret,lena = cv2.threshold(lena,100,255,cv2.THRESH_BINARY)\n",
        "cv2_imshow(lena)"
      ],
      "execution_count": 11,
      "outputs": [
        {
          "output_type": "display_data",
          "data": {
            "image/png": "[encoded data removed]",
            "text/plain": [
              "<PIL.Image.Image image mode=L size=469x321 at 0x7FB2A02E2990>"
            ]
          },
          "metadata": {}
        }
      ]
    },
    {
      "cell_type": "markdown",
      "metadata": {
        "id": "PeGk-BuVxrI0"
      },
      "source": [
        "## Preparando máscara"
      ]
    },
    {
      "cell_type": "code",
      "metadata": {
        "id": "1CS0Q30-if0p"
      },
      "source": [
        "class Mask:\n",
        "  \"\"\"\n",
        "    Máscara que sempre terá o pixel alvo no centro\n",
        "    mask: kernel usado para processamento\n",
        "    up_down: quantas linhas existem acima e a baixo do alvo \n",
        "    left_right: quantas colunas existem aos lados do alvo\n",
        "  \"\"\"\n",
        "  mask = []\n",
        "  up_down = 0\n",
        "  left_right = 0\n",
        "\n",
        "  def __init__(self, mask):\n",
        "    self.mask = mask\n",
        "    self.up_down = len(mask)//2\n",
        "    self.left_right = len(mask)//2"
      ],
      "execution_count": 7,
      "outputs": []
    },
    {
      "cell_type": "markdown",
      "metadata": {
        "id": "TS7nxPAZxvmy"
      },
      "source": [
        "## Função corretiva"
      ]
    },
    {
      "cell_type": "code",
      "metadata": {
        "colab": {
          "base_uri": "https://localhost:8080/"
        },
        "id": "N0ikVnEW6XUU",
        "outputId": "4e2e6ba4-83c9-45fc-f2c9-a47516bcfb27"
      },
      "source": [
        "[[0]*4]*abs(-2) + [[1,2]]"
      ],
      "execution_count": 52,
      "outputs": [
        {
          "output_type": "execute_result",
          "data": {
            "text/plain": [
              "[[0, 0, 0, 0], [0, 0, 0, 0], [1, 2]]"
            ]
          },
          "metadata": {},
          "execution_count": 52
        }
      ]
    },
    {
      "cell_type": "code",
      "metadata": {
        "id": "_1WVlVVXx2eb"
      },
      "source": [
        "def correction(image, mask):\n",
        "\n",
        "  shape = (len(image), len(image[0]))\n",
        "  top_row = 0\n",
        "  botton_row = shape[0]\n",
        "  first_pixel_in_row = 0\n",
        "  last_pixel_in_row = shape[1]\n",
        "\n",
        "  top_area = (top_row - mask.up_down)\n",
        "  bottom_area = (botton_row + mask.up_down)\n",
        "  left_area = (first_pixel_in_row - mask.left_right)\n",
        "  right_area = (last_pixel_in_row + mask.left_right)\n",
        "  \n",
        "  # criando linhas faltantes no topo\n",
        "  if top_area < 0:\n",
        "    columns = shape[1]\n",
        "    missing_rows = [[0]*columns]*abs(top_area)\n",
        "    image = missing_rows + image\n",
        "\n",
        "  # criando colunas faltantes a esquerda\n",
        "  if left_area < 0:\n",
        "    new_image = []\n",
        "    for row in image:\n",
        "      new_row = row.copy()\n",
        "      for times in range(abs(left_area)):\n",
        "        new_row.insert(0, 0)\n",
        "      new_image.append(new_row)\n",
        "    image = new_image\n",
        "\n",
        "  # criando linhas faltantes no fundo \n",
        "  if bottom_area >= shape[0]:\n",
        "    columns = len(image[0]) \n",
        "    missing_rows = [[0]*columns]*abs(bottom_area - botton_row)\n",
        "    image = image + missing_rows \n",
        "\n",
        "  # criando colunas faltantes a direita\n",
        "  if right_area >= shape[1]:\n",
        "    new_image = []\n",
        "    for row in image:\n",
        "      new_row = row.copy()\n",
        "      for times in range(abs(right_area - last_pixel_in_row)):\n",
        "        new_row.insert(-1, 0)\n",
        "      new_image.append(new_row)\n",
        "    image = new_image\n",
        "  \n",
        "  return image"
      ],
      "execution_count": 63,
      "outputs": []
    },
    {
      "cell_type": "code",
      "metadata": {
        "colab": {
          "base_uri": "https://localhost:8080/",
          "height": 167
        },
        "id": "nx9A-NQ6RBNo",
        "outputId": "8ac1be3f-fa0e-4504-f037-1f84d02f0393"
      },
      "source": [
        "lena[(lena.shape[0]+2) - 2]"
      ],
      "execution_count": 72,
      "outputs": [
        {
          "output_type": "error",
          "ename": "IndexError",
          "evalue": "ignored",
          "traceback": [
            "\u001b[0;31m---------------------------------------------------------------------------\u001b[0m",
            "\u001b[0;31mIndexError\u001b[0m                                Traceback (most recent call last)",
            "\u001b[0;32m<ipython-input-72-85563e73601b>\u001b[0m in \u001b[0;36m<module>\u001b[0;34m()\u001b[0m\n\u001b[0;32m----> 1\u001b[0;31m \u001b[0mlena\u001b[0m\u001b[0;34m[\u001b[0m\u001b[0;34m(\u001b[0m\u001b[0mlena\u001b[0m\u001b[0;34m.\u001b[0m\u001b[0mshape\u001b[0m\u001b[0;34m[\u001b[0m\u001b[0;36m0\u001b[0m\u001b[0;34m]\u001b[0m\u001b[0;34m+\u001b[0m\u001b[0;36m2\u001b[0m\u001b[0;34m)\u001b[0m \u001b[0;34m-\u001b[0m \u001b[0;36m2\u001b[0m\u001b[0;34m]\u001b[0m\u001b[0;34m\u001b[0m\u001b[0;34m\u001b[0m\u001b[0m\n\u001b[0m",
            "\u001b[0;31mIndexError\u001b[0m: index 321 is out of bounds for axis 0 with size 321"
          ]
        }
      ]
    },
    {
      "cell_type": "markdown",
      "metadata": {
        "id": "yHO0jpdX3Ik1"
      },
      "source": [
        "## Erosão"
      ]
    },
    {
      "cell_type": "code",
      "metadata": {
        "id": "OVkFvv5HmXC2"
      },
      "source": [
        "def kernel_erosion_aplication(image, mask, row, pixel):\n",
        "\n",
        "  \"\"\"\n",
        "    Se os 1's da máscara estiverem posicionados igualmente com os 255 da imagem, retornará 255\n",
        "    se não, retornará 0\n",
        "  \"\"\"\n",
        "\n",
        "  shape = image.shape\n",
        "  top_area = (row - mask.up_down)\n",
        "  bottom_area = (row + mask.up_down)\n",
        "  left_area = (pixel - mask.left_right)\n",
        "  right_area = (pixel + mask.left_right)\n",
        "\n",
        "  # se a máscara não couber na área para processar, retorne 0\n",
        "  if top_area < 0 or left_area < 0 or bottom_area >= shape[0] or right_area >= shape[1]:\n",
        "    return 0\n",
        "  \n",
        "  masked_area = [row[left_area:right_area+1] for row in image[top_area:bottom_area+1]]\n",
        "\n",
        "  mask = mask.mask\n",
        "  rows = len(mask)\n",
        "\n",
        "  for row in range(rows):\n",
        "    for pixel in range(len(mask[row])):      \n",
        "\n",
        "      # se a máscara apontar para o elemento 1 mas o pixel apontado for 0, retorne 0\n",
        "      if mask[row][pixel] == 1 and masked_area[row][pixel] == 0:\n",
        "        return 0\n",
        "\n",
        "  # se todas as operações para retorno do 0 não acontecerem, retorne 255\n",
        "  return 255\n",
        "\n",
        "def erosion(mask, image):\n",
        "  shape = image.shape\n",
        "  image_list = image.tolist()\n",
        "  result = []\n",
        "  for row in range(shape[0]):\n",
        "      result_row = []\n",
        "      for pixel in range(len(image_list[row])):\n",
        "        masked_area_result = kernel_erosion_aplication(image, mask, row, pixel)\n",
        "        result_row.append(masked_area_result)\n",
        "      result.append(result_row)\n",
        "  return result"
      ],
      "execution_count": null,
      "outputs": []
    },
    {
      "cell_type": "code",
      "metadata": {
        "colab": {
          "base_uri": "https://localhost:8080/",
          "height": 338
        },
        "id": "oii4F7LkrWGe",
        "outputId": "ba7e2646-18ef-40e2-bbf2-c8305e1fe1ca"
      },
      "source": [
        "mask = [[1, 1, 1, 1, 1],\n",
        "        [1, 1, 1, 1, 1],\n",
        "        [1, 1, 1, 1, 1], \n",
        "        [1, 1, 1, 1, 1], \n",
        "        [1, 1, 1, 1, 1]]\n",
        "\n",
        "mask = Mask(mask)\n",
        "lenat = erosion(mask, lena)\n",
        "lenat = np.asarray(lenat, dtype=np.uint8)\n",
        "cv2_imshow(lenat)"
      ],
      "execution_count": null,
      "outputs": [
        {
          "output_type": "display_data",
          "data": {
            "image/png": "[encoded data removed]",
            "text/plain": [
              "<PIL.Image.Image image mode=L size=469x321 at 0x7F1C4C4D5E90>"
            ]
          },
          "metadata": {}
        }
      ]
    },
    {
      "cell_type": "code",
      "metadata": {
        "colab": {
          "base_uri": "https://localhost:8080/",
          "height": 338
        },
        "id": "xeNZ6-KNqyHJ",
        "outputId": "2a83d16b-50b0-4765-de89-864ee3945ee8"
      },
      "source": [
        "kernel = np.ones((5,5),np.uint8)\n",
        "erosion = cv2.erode(lena,kernel, iterations=1)\n",
        "cv2_imshow(erosion)"
      ],
      "execution_count": null,
      "outputs": [
        {
          "output_type": "display_data",
          "data": {
            "image/png": "[encoded data removed]",
            "text/plain": [
              "<PIL.Image.Image image mode=L size=469x321 at 0x7F1C4C559D10>"
            ]
          },
          "metadata": {}
        }
      ]
    },
    {
      "cell_type": "markdown",
      "metadata": {
        "id": "BFkWXS973jsu"
      },
      "source": [
        "## Dilatação"
      ]
    },
    {
      "cell_type": "code",
      "metadata": {
        "colab": {
          "base_uri": "https://localhost:8080/"
        },
        "id": "DHCMtTQoTlBF",
        "outputId": "8d9c3ab0-2a67-4ee2-9aa1-da1f0e698d82"
      },
      "source": [
        "[[0]*3]*abs(-2)"
      ],
      "execution_count": null,
      "outputs": [
        {
          "output_type": "execute_result",
          "data": {
            "text/plain": [
              "[[0, 0, 0], [0, 0, 0]]"
            ]
          },
          "metadata": {},
          "execution_count": 108
        }
      ]
    },
    {
      "cell_type": "code",
      "metadata": {
        "id": "ARbqvknA0puI"
      },
      "source": [
        "def kernel_dilation_aplication(image, mask, row, pixel):\n",
        "\n",
        "  \"\"\"\n",
        "    Se os 1's da máscara estiverem posicionados igualmente com os 255 da imagem, retornará 255\n",
        "    se não, retornará 0\n",
        "  \"\"\"\n",
        "\n",
        "  shape = image.shape\n",
        "\n",
        "  top_area = row - mask.up_down\n",
        "  bottom_area = row + mask.up_down\n",
        "  left_area = pixel - mask.left_right\n",
        "  right_area = pixel + mask.left_right\n",
        "\n",
        "  mask = [row.copy() for row in mask.mask]\n",
        "\n",
        "  # caso existam colunas faltantes na parte de cima\n",
        "  if top_area < 0:\n",
        "    mask = mask[abs(top_area):]\n",
        "    top_area += abs(top_area)\n",
        "    \n",
        "  # caso existam linhas faltantes no fundo \n",
        "  elif bottom_area >= shape[0]:\n",
        "    mask = mask[:(bottom_area - shape[0] - 1)]\n",
        "    bottom_area -= bottom_area - shape[0] - 1\n",
        "\n",
        "  # caso existam colunas faltantes a esquerda\n",
        "  if left_area < 0:\n",
        "    for row in range(len(mask)):\n",
        "      mask[row] = mask[row][abs(left_area):]\n",
        "    left_area += abs(left_area)\n",
        "\n",
        "  # caso existam colunas faltantes a direita\n",
        "  elif right_area >= shape[1]:\n",
        "    for row in range(len(mask)):\n",
        "      mask[row] = mask[row][:(right_area - shape[1] - 1)]\n",
        "    right_area -= right_area - shape[1] - 1\n",
        "\n",
        "  masked_area = [row[left_area:right_area+1] for row in image[top_area:bottom_area+1]]\n",
        "\n",
        "  for row in range(len(mask)):\n",
        "    for pixel in range(len(mask[row])):      \n",
        "      \n",
        "      # se a máscara apontar para o elemento 1 mas o pixel apontado for 255, retorne 255\n",
        "      if mask[row][pixel] == 1 and masked_area[row][pixel] == 255:\n",
        "        return 255\n",
        "\n",
        "  # se todas as operações para retorno do 255 não acontecerem, retorne 0\n",
        "  return 0\n",
        "\n",
        "def dilation(mask, image):\n",
        "  shape = image.shape\n",
        "  image_list = image.tolist()\n",
        "  result = []\n",
        "  for row in range(shape[0]):\n",
        "      result_row = []\n",
        "      for pixel in range(len(image_list[row])):\n",
        "        masked_area_result = kernel_dilation_aplication(image, mask, row, pixel)\n",
        "        result_row.append(masked_area_result)\n",
        "      result.append(result_row)\n",
        "  return result"
      ],
      "execution_count": 126,
      "outputs": []
    },
    {
      "cell_type": "code",
      "metadata": {
        "colab": {
          "base_uri": "https://localhost:8080/",
          "height": 338
        },
        "id": "qZCVHWv58N2I",
        "outputId": "ef3565a8-65a6-491f-a912-25c5e0b0484d"
      },
      "source": [
        "mask2 = [[1, 1, 1, 1, 1],\n",
        "        [1, 1, 1, 1, 1],\n",
        "        [1, 1, 1, 1, 1], \n",
        "        [1, 1, 1, 1, 1], \n",
        "        [1, 1, 1, 1, 1]]\n",
        "\n",
        "mask2 = Mask(mask2)\n",
        "lenat2 = dilation(mask2, lena)\n",
        "lenat2 = np.asarray(lenat2, dtype=np.uint8)\n",
        "cv2_imshow(lenat2)"
      ],
      "execution_count": 127,
      "outputs": [
        {
          "output_type": "display_data",
          "data": {
            "image/png": "[encoded data removed]",
            "text/plain": [
              "<PIL.Image.Image image mode=L size=469x321 at 0x7FB299D85D50>"
            ]
          },
          "metadata": {}
        }
      ]
    },
    {
      "cell_type": "code",
      "metadata": {
        "colab": {
          "base_uri": "https://localhost:8080/",
          "height": 338
        },
        "id": "kO9-NY0MclcF",
        "outputId": "4f1560c9-5cb1-4aff-d84b-d9806664c900"
      },
      "source": [
        "kernel = np.ones((5,5),np.uint8)\n",
        "img_dilation = cv2.dilate(lena, kernel)\n",
        "cv2_imshow(img_dilation)"
      ],
      "execution_count": 121,
      "outputs": [
        {
          "output_type": "display_data",
          "data": {
            "image/png": "[encoded data removed]",
            "text/plain": [
              "<PIL.Image.Image image mode=L size=469x321 at 0x7FB29B66D2D0>"
            ]
          },
          "metadata": {}
        }
      ]
    }
  ]
}