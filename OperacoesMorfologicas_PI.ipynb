{
  "nbformat": 4,
  "nbformat_minor": 0,
  "metadata": {
    "colab": {
      "name": "OperacoesMorfologicas-PI.ipynb",
      "provenance": [],
      "collapsed_sections": [],
      "authorship_tag": "ABX9TyNrtxl9ITY4n1biAAm+9chX",
      "include_colab_link": true
    },
    "kernelspec": {
      "display_name": "Python 3",
      "name": "python3"
    },
    "language_info": {
      "name": "python"
    }
  },
  "cells": [
    {
      "cell_type": "markdown",
      "metadata": {
        "id": "view-in-github",
        "colab_type": "text"
      },
      "source": [
        "<a href=\"https://colab.research.google.com/github/svhenrique/pi-opencv-basic/blob/main/OperacoesMorfologicas_PI.ipynb\" target=\"_parent\"><img src=\"https://colab.research.google.com/assets/colab-badge.svg\" alt=\"Open In Colab\"/></a>"
      ]
    },
    {
      "cell_type": "markdown",
      "metadata": {
        "id": "W-DLjOBUc-RJ"
      },
      "source": [
        "Fontes:\n",
        "\n",
        "*   https://towardsdatascience.com/intuitively-understanding-convolutions-for-deep-learning-1f6f42faee1\n",
        "*   https://www.mathworks.com/help/images/morphological-dilation-and-erosion.html\n",
        "*   https://www.geeksforgeeks.org/erosion-dilation-images-using-opencv-python/\n",
        "*   https://docs.opencv.org/master/d4/d76/tutorial_js_morphological_ops.html\n",
        "\n"
      ]
    },
    {
      "cell_type": "code",
      "metadata": {
        "colab": {
          "base_uri": "https://localhost:8080/"
        },
        "id": "P1kHZUflJKE-",
        "outputId": "3d6f71b8-a84e-4e91-960b-b873b8ae9606"
      },
      "source": [
        "# detectando drive\n",
        "from google.colab import drive\n",
        "\n",
        "# Accessing My Google Drive\n",
        "drive.mount('/content/drive')"
      ],
      "execution_count": 1,
      "outputs": [
        {
          "output_type": "stream",
          "name": "stdout",
          "text": [
            "Mounted at /content/drive\n"
          ]
        }
      ]
    },
    {
      "cell_type": "code",
      "metadata": {
        "id": "NsUmZZq-3NhP"
      },
      "source": [
        "# importando bibliotecas \n",
        "import cv2\n",
        "import numpy as np\n",
        "from google.colab.patches import cv2_imshow"
      ],
      "execution_count": 2,
      "outputs": []
    },
    {
      "cell_type": "markdown",
      "metadata": {
        "id": "m88w6mrOPG06"
      },
      "source": [
        "## Preparando imagens "
      ]
    },
    {
      "cell_type": "code",
      "metadata": {
        "id": "K25oT-3GPJzt"
      },
      "source": [
        "# caminho de pasta imagens\n",
        "image_path = \"/content/drive/My Drive/images/\""
      ],
      "execution_count": 3,
      "outputs": []
    },
    {
      "cell_type": "code",
      "metadata": {
        "colab": {
          "base_uri": "https://localhost:8080/",
          "height": 338
        },
        "id": "goeE6CNOPcO6",
        "outputId": "816f22ae-c77e-45f6-fe56-41e5f835879c"
      },
      "source": [
        "# lendo imagem e convertendo para preto e branco (binário)\n",
        "# lembrando que a converção para preto e branco (binário) utiliza pesos com resultados empíricos\n",
        "lena = cv2.imread(image_path + 'lena.jpg')\n",
        "lena = cv2.resize(lena, None, fx=.52, fy=.52)\n",
        "lena = cv2.cvtColor(lena, cv2.COLOR_BGR2GRAY)\n",
        "ret,lena = cv2.threshold(lena,100,255,cv2.THRESH_BINARY)\n",
        "cv2_imshow(lena)"
      ],
      "execution_count": 88,
      "outputs": [
        {
          "output_type": "display_data",
          "data": {
            "image/png": "[encoded data removed]",
            "text/plain": [
              "<PIL.Image.Image image mode=L size=469x321 at 0x7F1C4C4B8910>"
            ]
          },
          "metadata": {}
        }
      ]
    },
    {
      "cell_type": "code",
      "metadata": {
        "colab": {
          "base_uri": "https://localhost:8080/"
        },
        "id": "gh4X20UgqYS2",
        "outputId": "9a938bf0-bd78-4d82-f76b-b5edc1ecb435"
      },
      "source": [
        "lena.dtype"
      ],
      "execution_count": 73,
      "outputs": [
        {
          "output_type": "execute_result",
          "data": {
            "text/plain": [
              "dtype('uint8')"
            ]
          },
          "metadata": {},
          "execution_count": 73
        }
      ]
    },
    {
      "cell_type": "code",
      "metadata": {
        "colab": {
          "base_uri": "https://localhost:8080/"
        },
        "id": "O29HEeMAnlHd",
        "outputId": "12404303-273c-4f65-eb88-7541df09b673"
      },
      "source": [
        "lena.shape"
      ],
      "execution_count": 12,
      "outputs": [
        {
          "output_type": "execute_result",
          "data": {
            "text/plain": [
              "(321, 469)"
            ]
          },
          "metadata": {},
          "execution_count": 12
        }
      ]
    },
    {
      "cell_type": "markdown",
      "metadata": {
        "id": "yHO0jpdX3Ik1"
      },
      "source": [
        "## Erosão"
      ]
    },
    {
      "cell_type": "code",
      "metadata": {
        "id": "1CS0Q30-if0p"
      },
      "source": [
        "class Mask:\n",
        "  \"\"\"\n",
        "    Máscara que sempre terá o pixel alvo no centro\n",
        "    mask: kernel usado para processamento\n",
        "    up_down: quantas linhas existem acima e a baixo do alvo \n",
        "    left_right: quantas colunas existem aos lados do alvo\n",
        "  \"\"\"\n",
        "  mask = []\n",
        "  up_down = 0\n",
        "  left_right = 0\n",
        "\n",
        "  def __init__(self, mask):\n",
        "    self.mask = mask\n",
        "    self.up_down = len(mask)//2\n",
        "    self.left_right = len(mask)//2"
      ],
      "execution_count": 104,
      "outputs": []
    },
    {
      "cell_type": "code",
      "metadata": {
        "id": "OVkFvv5HmXC2"
      },
      "source": [
        "def kernel_erosion_aplication(image, mask, row, pixel):\n",
        "\n",
        "  \"\"\"\n",
        "    Se os 1's da máscara estiverem posicionados igualmente com os 255 da imagem, retornará 255\n",
        "    se não, retornará 0\n",
        "  \"\"\"\n",
        "\n",
        "  shape = image.shape\n",
        "  top_area = (row - mask.up_down)\n",
        "  bottom_area = (row + mask.up_down)\n",
        "  left_area = (pixel - mask.left_right)\n",
        "  right_area = (pixel + mask.left_right)\n",
        "\n",
        "  # se a máscara não couber na área para processar, retorne 0\n",
        "  if top_area < 0 or left_area < 0 or bottom_area >= shape[0] or right_area >= shape[1]:\n",
        "    return 0\n",
        "  \n",
        "  masked_area = [row[left_area:right_area+1] for row in image[top_area:bottom_area+1]]\n",
        "\n",
        "  mask = mask.mask\n",
        "  rows = len(mask)\n",
        "\n",
        "  for row in range(rows):\n",
        "    for pixel in range(len(mask[row])):      \n",
        "      # se a máscara apontar para o elemento 1 mas o pixel da imagem for 0, retorne 0\n",
        "      if mask[row][pixel] == 1 and masked_area[row][pixel] == 0:\n",
        "        return 0\n",
        "\n",
        "  # se todas as operações para retorno do 0 não acontecerem, retorne 255\n",
        "  return 255\n",
        "\n",
        "def erosion(mask, image):\n",
        "  shape = image.shape\n",
        "  image_list = image.tolist()\n",
        "  result = []\n",
        "  for row in range(shape[0]):\n",
        "      result_row = []\n",
        "      for pixel in range(len(image_list[row])):\n",
        "        masked_area_result = kernel_erosion_aplication(image, mask, row, pixel)\n",
        "        result_row.append(masked_area_result)\n",
        "      result.append(result_row)\n",
        "  return result"
      ],
      "execution_count": 118,
      "outputs": []
    },
    {
      "cell_type": "code",
      "metadata": {
        "colab": {
          "base_uri": "https://localhost:8080/",
          "height": 338
        },
        "id": "oii4F7LkrWGe",
        "outputId": "ba7e2646-18ef-40e2-bbf2-c8305e1fe1ca"
      },
      "source": [
        "mask = [[1, 1, 1, 1, 1],\n",
        "        [1, 1, 1, 1, 1],\n",
        "        [1, 1, 1, 1, 1], \n",
        "        [1, 1, 1, 1, 1], \n",
        "        [1, 1, 1, 1, 1]]\n",
        "\n",
        "mask = Mask(mask)\n",
        "lenat = erosion(mask, lena)\n",
        "lenat = np.asarray(lenat, dtype=np.uint8)\n",
        "cv2_imshow(lenat)"
      ],
      "execution_count": 119,
      "outputs": [
        {
          "output_type": "display_data",
          "data": {
            "image/png": "[encoded data removed]",
            "text/plain": [
              "<PIL.Image.Image image mode=L size=469x321 at 0x7F1C4C4D5E90>"
            ]
          },
          "metadata": {}
        }
      ]
    },
    {
      "cell_type": "code",
      "metadata": {
        "colab": {
          "base_uri": "https://localhost:8080/",
          "height": 338
        },
        "id": "xeNZ6-KNqyHJ",
        "outputId": "2a83d16b-50b0-4765-de89-864ee3945ee8"
      },
      "source": [
        "kernel = np.ones((5,5),np.uint8)\n",
        "erosion = cv2.erode(lena,kernel, iterations=1)\n",
        "cv2_imshow(erosion)"
      ],
      "execution_count": 106,
      "outputs": [
        {
          "output_type": "display_data",
          "data": {
            "image/png": "[encoded data removed]",
            "text/plain": [
              "<PIL.Image.Image image mode=L size=469x321 at 0x7F1C4C559D10>"
            ]
          },
          "metadata": {}
        }
      ]
    }
  ]
}