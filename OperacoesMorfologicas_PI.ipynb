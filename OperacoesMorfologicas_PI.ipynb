{
  "nbformat": 4,
  "nbformat_minor": 0,
  "metadata": {
    "colab": {
      "name": "OperacoesMorfologicas-PI.ipynb",
      "provenance": [],
      "collapsed_sections": [
        "Nu_oKon8NnEV",
        "yzbBoxAsOh4f",
        "m88w6mrOPG06",
        "PeGk-BuVxrI0",
        "yHO0jpdX3Ik1",
        "BFkWXS973jsu"
      ],
      "authorship_tag": "ABX9TyPv5GHuNg3Q3BkyuL4HVIuc",
      "include_colab_link": true
    },
    "kernelspec": {
      "display_name": "Python 3",
      "name": "python3"
    },
    "language_info": {
      "name": "python"
    }
  },
  "cells": [
    {
      "cell_type": "markdown",
      "metadata": {
        "id": "view-in-github",
        "colab_type": "text"
      },
      "source": [
        "<a href=\"https://colab.research.google.com/github/svhenrique/pi-opencv-basic/blob/main/OperacoesMorfologicas_PI.ipynb\" target=\"_parent\"><img src=\"https://colab.research.google.com/assets/colab-badge.svg\" alt=\"Open In Colab\"/></a>"
      ]
    },
    {
      "cell_type": "markdown",
      "metadata": {
        "id": "Nu_oKon8NnEV"
      },
      "source": [
        "## Sobre o projeto"
      ]
    },
    {
      "cell_type": "markdown",
      "metadata": {
        "id": "llhxMxvpNqD2"
      },
      "source": [
        "* Foi implementado funções com base nos algoritmos de erosão, dilatação, abertura e fechamento.\n",
        "* Utilizando um elemento estruturante e uma imagem de entrada, é possível aplicar as operações morfológicas de erosão, dilatação, abertura e fechamento e obter uma imagem resultante.\n",
        "* Os algoritmos podem ser encontrados na célula de nome Fontes."
      ]
    },
    {
      "cell_type": "markdown",
      "metadata": {
        "id": "W-DLjOBUc-RJ"
      },
      "source": [
        "Fontes:\n",
        "\n",
        "*   https://towardsdatascience.com/intuitively-understanding-convolutions-for-deep-learning-1f6f42faee1\n",
        "*   https://www.mathworks.com/help/images/morphological-dilation-and-erosion.html\n",
        "*   https://www.geeksforgeeks.org/erosion-dilation-images-using-opencv-python/\n",
        "*   https://docs.opencv.org/master/d4/d76/tutorial_js_morphological_ops.html\n",
        "*   https://opencv24-python-tutorials.readthedocs.io/en/latest/py_tutorials/py_imgproc/py_morphological_ops/py_morphological_ops.html\n",
        "\n"
      ]
    },
    {
      "cell_type": "markdown",
      "metadata": {
        "id": "yzbBoxAsOh4f"
      },
      "source": [
        "## Preparando ambiente"
      ]
    },
    {
      "cell_type": "code",
      "metadata": {
        "colab": {
          "base_uri": "https://localhost:8080/"
        },
        "id": "P1kHZUflJKE-",
        "outputId": "d0c3d5fb-3f86-44a7-e1b1-062ae61d7ec1"
      },
      "source": [
        "# detectando drive\n",
        "from google.colab import drive\n",
        "\n",
        "# Accessing My Google Drive\n",
        "drive.mount('/content/drive')"
      ],
      "execution_count": 160,
      "outputs": [
        {
          "output_type": "stream",
          "name": "stdout",
          "text": [
            "Drive already mounted at /content/drive; to attempt to forcibly remount, call drive.mount(\"/content/drive\", force_remount=True).\n"
          ]
        }
      ]
    },
    {
      "cell_type": "code",
      "metadata": {
        "id": "NsUmZZq-3NhP"
      },
      "source": [
        "# importando bibliotecas \n",
        "import cv2\n",
        "import numpy as np\n",
        "from google.colab.patches import cv2_imshow\n",
        "import os\n",
        "from PIL import Image"
      ],
      "execution_count": null,
      "outputs": []
    },
    {
      "cell_type": "markdown",
      "metadata": {
        "id": "m88w6mrOPG06"
      },
      "source": [
        "## Preparando imagens "
      ]
    },
    {
      "cell_type": "code",
      "metadata": {
        "id": "K25oT-3GPJzt"
      },
      "source": [
        "# caminho de pasta imagens\n",
        "image_path = \"/content/drive/My Drive/images/\""
      ],
      "execution_count": null,
      "outputs": []
    },
    {
      "cell_type": "code",
      "metadata": {
        "colab": {
          "base_uri": "https://localhost:8080/"
        },
        "id": "goeE6CNOPcO6",
        "outputId": "93fcd6fc-9978-4d3f-8552-ffe0932c2a50"
      },
      "source": [
        "# lendo imagem Lenna e convertendo para preto e branco (binário)\n",
        "# lembrando que a converção para preto e branco (binário) utiliza pesos com resultados empíricos\n",
        "lena = cv2.imread(image_path + 'lena.jpg')\n",
        "lena = cv2.resize(lena, None, fx=.52, fy=.52)\n",
        "lena = cv2.cvtColor(lena, cv2.COLOR_BGR2GRAY)\n",
        "ret,lena = cv2.threshold(lena,100,255,cv2.THRESH_BINARY)\n",
        "cv2_imshow(lena)"
      ],
      "execution_count": null,
      "outputs": [
        {
          "output_type": "display_data",
          "data": {
            "image/png": "[encoded data removed]",
            "text/plain": [
              "<PIL.Image.Image image mode=L size=469x321 at 0x7FB2AF5BEE50>"
            ]
          },
          "metadata": {}
        }
      ]
    },
    {
      "cell_type": "code",
      "metadata": {
        "colab": {
          "base_uri": "https://localhost:8080/"
        },
        "id": "bWE_h774b33P",
        "outputId": "bd56a3d2-3b5b-429a-9c91-167e8f296729"
      },
      "source": [
        "# lendo imagem coins e convertendo para binário\n",
        "coins = cv2.imread(image_path + 'coins.jpg')\n",
        "coins = cv2.resize(coins, None, fx=.52, fy=.52)\n",
        "coins = cv2.cvtColor(coins, cv2.COLOR_BGR2GRAY)\n",
        "ret,coins = cv2.threshold(coins,100,255,cv2.THRESH_BINARY)\n",
        "cv2_imshow(coins)"
      ],
      "execution_count": null,
      "outputs": [
        {
          "output_type": "display_data",
          "data": {
            "image/png": "[encoded data removed]",
            "text/plain": [
              "<PIL.Image.Image image mode=L size=203x261 at 0x7FB29B848F10>"
            ]
          },
          "metadata": {}
        }
      ]
    },
    {
      "cell_type": "code",
      "metadata": {
        "colab": {
          "base_uri": "https://localhost:8080/",
          "height": 294
        },
        "id": "5vtqOS3EwhVT",
        "outputId": "184c3869-fe6c-48ec-b612-63aa48906e16"
      },
      "source": [
        "# lendo imagem ruído e convertendo para preto e branco (binário)\n",
        "# lembrando que a converção para preto e branco (binário) utiliza pesos com resultados empíricos\n",
        "ruido = cv2.imread(image_path + 'ruido.png')\n",
        "ruido = cv2.resize(ruido, None, fx=.52, fy=.52)\n",
        "ruido = cv2.cvtColor(ruido, cv2.COLOR_BGR2GRAY)\n",
        "ret,ruido = cv2.threshold(ruido,126,255,cv2.THRESH_BINARY)\n",
        "cv2_imshow(ruido)"
      ],
      "execution_count": 179,
      "outputs": [
        {
          "output_type": "display_data",
          "data": {
            "image/png": "[encoded data removed]",
            "text/plain": [
              "<PIL.Image.Image image mode=L size=278x277 at 0x7FB29B6D1350>"
            ]
          },
          "metadata": {}
        }
      ]
    },
    {
      "cell_type": "markdown",
      "metadata": {
        "id": "PeGk-BuVxrI0"
      },
      "source": [
        "## Preparando máscara"
      ]
    },
    {
      "cell_type": "markdown",
      "metadata": {
        "id": "8tDDsFkKOxNf"
      },
      "source": [
        "* Classe Mask criada para representar o kernel (ou máscara) que será usada na operação morfológica.\n",
        "  * Classe tem informações que serão utilizadas na implementação do algoritmo."
      ]
    },
    {
      "cell_type": "code",
      "metadata": {
        "id": "1CS0Q30-if0p"
      },
      "source": [
        "class Mask:\n",
        "  \"\"\"\n",
        "    Máscara que sempre terá o pixel alvo no centro\n",
        "    mask: kernel usado para processamento\n",
        "    up_down: quantas linhas existem acima e a baixo do alvo \n",
        "    left_right: quantas colunas existem aos lados do alvo\n",
        "  \"\"\"\n",
        "  mask = []\n",
        "  up_down = 0\n",
        "  left_right = 0\n",
        "\n",
        "  def __init__(self, mask):\n",
        "    self.mask = mask\n",
        "    self.up_down = len(mask)//2\n",
        "    self.left_right = len(mask)//2"
      ],
      "execution_count": null,
      "outputs": []
    },
    {
      "cell_type": "markdown",
      "metadata": {
        "id": "yHO0jpdX3Ik1"
      },
      "source": [
        "## Erosão"
      ]
    },
    {
      "cell_type": "markdown",
      "metadata": {
        "id": "rmk7IlaQOuPI"
      },
      "source": [
        "* Função kernel_erosion_aplication, operação de erosão, faz a aplicação da máscara em um pixel central.\n",
        "* Função erosion, utiliza a função kernel_erosion_aplication por toda a imagem."
      ]
    },
    {
      "cell_type": "code",
      "metadata": {
        "id": "OVkFvv5HmXC2"
      },
      "source": [
        "def kernel_erosion_aplication(image, mask, row, pixel):\n",
        "\n",
        "  \"\"\"\n",
        "    Se os 1's da máscara estiverem posicionados igualmente com os 255 da imagem, retornará 255\n",
        "    se não, retornará 0\n",
        "  \"\"\"\n",
        "\n",
        "  shape = image.shape\n",
        "  top_area = (row - mask.up_down)\n",
        "  bottom_area = (row + mask.up_down)\n",
        "  left_area = (pixel - mask.left_right)\n",
        "  right_area = (pixel + mask.left_right)\n",
        "\n",
        "  # se a máscara não couber na área para processar, retorne 0\n",
        "  if top_area < 0 or left_area < 0 or bottom_area >= shape[0] or right_area >= shape[1]:\n",
        "    return 0\n",
        "  \n",
        "  # area da imagem com máscara\n",
        "  masked_area = [row[left_area:right_area+1] for row in image[top_area:bottom_area+1]]\n",
        "\n",
        "  mask = mask.mask\n",
        "  rows = len(mask)\n",
        "\n",
        "  for row in range(rows):\n",
        "    for pixel in range(len(mask[row])):      \n",
        "\n",
        "      # se a máscara apontar para o elemento 1 mas o pixel apontado for 0, retorne 0\n",
        "      if mask[row][pixel] == 1 and masked_area[row][pixel] == 0:\n",
        "        return 0\n",
        "\n",
        "  # se todas as operações para retorno do 0 não acontecerem, retorne 255\n",
        "  return 255\n",
        "\n",
        "def erosion(mask, image):\n",
        "  shape = image.shape\n",
        "  image_list = image.tolist()\n",
        "  result = []\n",
        "\n",
        "  # percorre os pixels da imagem e processa usando a máscara\n",
        "  for row in range(shape[0]):\n",
        "      result_row = []\n",
        "      for pixel in range(len(image_list[row])):\n",
        "        masked_area_result = kernel_erosion_aplication(image, mask, row, pixel)\n",
        "        result_row.append(masked_area_result)\n",
        "      result.append(result_row)\n",
        "\n",
        "  # retorna array para formato conhecido pelo opencv\n",
        "  return np.asarray(result,  dtype=np.uint8)"
      ],
      "execution_count": 181,
      "outputs": []
    },
    {
      "cell_type": "code",
      "metadata": {
        "colab": {
          "base_uri": "https://localhost:8080/",
          "height": 338
        },
        "id": "oii4F7LkrWGe",
        "outputId": "270d326a-d036-46f8-b075-5dda63eb43a8"
      },
      "source": [
        "# utilizando máscara 5x5 com matriz em listas no python\n",
        "mask = [[1, 1, 1, 1, 1],\n",
        "        [1, 1, 1, 1, 1],\n",
        "        [1, 1, 1, 1, 1], \n",
        "        [1, 1, 1, 1, 1], \n",
        "        [1, 1, 1, 1, 1]]\n",
        "\n",
        "# fazendo operação de erosão\n",
        "mask = Mask(mask)\n",
        "lena_erosion = erosion(mask, lena)\n",
        "cv2_imshow(lena_erosion)"
      ],
      "execution_count": null,
      "outputs": [
        {
          "output_type": "display_data",
          "data": {
            "image/png": "[encoded data removed]",
            "text/plain": [
              "<PIL.Image.Image image mode=L size=469x321 at 0x7FB299DBBBD0>"
            ]
          },
          "metadata": {}
        }
      ]
    },
    {
      "cell_type": "code",
      "metadata": {
        "colab": {
          "base_uri": "https://localhost:8080/",
          "height": 338
        },
        "id": "xeNZ6-KNqyHJ",
        "outputId": "2a83d16b-50b0-4765-de89-864ee3945ee8"
      },
      "source": [
        "# utilizando máscara 5x5 do numpy \n",
        "# processando erosão da mesma imagem anterior com opencv\n",
        "kernel = np.ones((5,5),np.uint8)\n",
        "erosion = cv2.erode(lena,kernel, iterations=1)\n",
        "cv2_imshow(erosion)"
      ],
      "execution_count": null,
      "outputs": [
        {
          "output_type": "display_data",
          "data": {
            "image/png": "[encoded data removed]",
            "text/plain": [
              "<PIL.Image.Image image mode=L size=469x321 at 0x7F1C4C559D10>"
            ]
          },
          "metadata": {}
        }
      ]
    },
    {
      "cell_type": "code",
      "metadata": {
        "colab": {
          "base_uri": "https://localhost:8080/",
          "height": 278
        },
        "id": "R64eErg8b0RU",
        "outputId": "0ccf1c79-2213-419a-973b-cdab94c4a357"
      },
      "source": [
        "# utilizando máscara 3x3 com matriz em listas no python\n",
        "mask = [[1, 1, 1],\n",
        "        [1, 1, 1],\n",
        "        [1, 1, 1]]\n",
        "\n",
        "# fazendo operação de erosão\n",
        "mask = Mask(mask)\n",
        "coins_erosion = erosion(mask, coins)\n",
        "cv2_imshow(coins_erosion)"
      ],
      "execution_count": null,
      "outputs": [
        {
          "output_type": "display_data",
          "data": {
            "image/png": "[encoded data removed]",
            "text/plain": [
              "<PIL.Image.Image image mode=L size=203x261 at 0x7FB29B8D7450>"
            ]
          },
          "metadata": {}
        }
      ]
    },
    {
      "cell_type": "code",
      "metadata": {
        "colab": {
          "base_uri": "https://localhost:8080/",
          "height": 278
        },
        "id": "ybwAP-LncxxJ",
        "outputId": "00c249b0-fd02-4db0-ceb6-14b598c4c2c9"
      },
      "source": [
        "# utilizando máscara 3x3 do numpy \n",
        "# processando erosão da mesma imagem anterior com opencv\n",
        "kernel = np.ones((3,3),np.uint8)\n",
        "erosion = cv2.erode(coins,kernel, iterations=1)\n",
        "cv2_imshow(erosion)"
      ],
      "execution_count": null,
      "outputs": [
        {
          "output_type": "display_data",
          "data": {
            "image/png": "[encoded data removed]",
            "text/plain": [
              "<PIL.Image.Image image mode=L size=203x261 at 0x7FB299DB4CD0>"
            ]
          },
          "metadata": {}
        }
      ]
    },
    {
      "cell_type": "markdown",
      "metadata": {
        "id": "BFkWXS973jsu"
      },
      "source": [
        "## Dilatação"
      ]
    },
    {
      "cell_type": "markdown",
      "metadata": {
        "id": "I0Djp3mKPdcF"
      },
      "source": [
        "* Função kernel_dilation_aplication, operação de dilatação, faz a aplicação da máscara em um pixel central.\n",
        "* Função dilation, utiliza a função kernel_dilation_aplication por toda a imagem."
      ]
    },
    {
      "cell_type": "code",
      "metadata": {
        "id": "ARbqvknA0puI"
      },
      "source": [
        "def kernel_dilation_aplication(image, mask, row, pixel):\n",
        "\n",
        "  \"\"\"\n",
        "    Se os 1's da máscara estiverem posicionados com ao menos um pixel de 255 da imagem, retornará 255\n",
        "    se não, retornará 0\n",
        "  \"\"\"\n",
        "\n",
        "  shape = image.shape\n",
        "  top_area = row - mask.up_down\n",
        "  bottom_area = row + mask.up_down\n",
        "  left_area = pixel - mask.left_right\n",
        "  right_area = pixel + mask.left_right\n",
        "  mask = [row.copy() for row in mask.mask]\n",
        "\n",
        "  # caso existam colunas faltantes na parte de cima\n",
        "  if top_area < 0:\n",
        "    mask = mask[abs(top_area):]\n",
        "    top_area += abs(top_area)\n",
        "    \n",
        "  # caso existam linhas faltantes no fundo \n",
        "  elif bottom_area >= shape[0]:\n",
        "    mask = mask[:(bottom_area - shape[0] - 1)]\n",
        "    bottom_area -= bottom_area - shape[0] - 1\n",
        "\n",
        "  # caso existam colunas faltantes a esquerda\n",
        "  if left_area < 0:\n",
        "    for row in range(len(mask)):\n",
        "      mask[row] = mask[row][abs(left_area):]\n",
        "    left_area += abs(left_area)\n",
        "\n",
        "  # caso existam colunas faltantes a direita\n",
        "  elif right_area >= shape[1]:\n",
        "    for row in range(len(mask)):\n",
        "      mask[row] = mask[row][:(right_area - shape[1] - 1)]\n",
        "    right_area -= right_area - shape[1] - 1\n",
        "\n",
        "  # area da imagem com máscara\n",
        "  masked_area = [row[left_area:right_area+1] for row in image[top_area:bottom_area+1]]\n",
        "\n",
        "  for row in range(len(mask)):\n",
        "    for pixel in range(len(mask[row])):      \n",
        "      \n",
        "      # se a máscara apontar para o elemento 1 mas o pixel apontado for 255, retorne 255\n",
        "      if mask[row][pixel] == 1 and masked_area[row][pixel] == 255:\n",
        "        return 255\n",
        "\n",
        "  # se todas as operações para retorno do 255 não acontecerem, retorne 0\n",
        "  return 0\n",
        "\n",
        "def dilation(mask, image):\n",
        "  shape = image.shape\n",
        "  image_list = image.tolist()\n",
        "  result = []\n",
        "\n",
        "  # percorre os pixels da imagem e processa usando a máscara\n",
        "  for row in range(shape[0]):\n",
        "      result_row = []\n",
        "      for pixel in range(len(image_list[row])):\n",
        "        masked_area_result = kernel_dilation_aplication(image, mask, row, pixel)\n",
        "        result_row.append(masked_area_result)\n",
        "      result.append(result_row)\n",
        "  \n",
        "  # retorna array para formato conhecido pelo opencv\n",
        "  return np.asarray(result,  dtype=np.uint8)"
      ],
      "execution_count": null,
      "outputs": []
    },
    {
      "cell_type": "code",
      "metadata": {
        "colab": {
          "base_uri": "https://localhost:8080/",
          "height": 338
        },
        "id": "qZCVHWv58N2I",
        "outputId": "9bd2a55f-6700-47f7-e5a8-1c8502f4564d"
      },
      "source": [
        "# utilizando máscara 5x5 com matriz em listas no python\n",
        "mask = [[1, 1, 1, 1, 1],\n",
        "        [1, 1, 1, 1, 1],\n",
        "        [1, 1, 1, 1, 1], \n",
        "        [1, 1, 1, 1, 1], \n",
        "        [1, 1, 1, 1, 1]]\n",
        "\n",
        "# fazendo operação de dilatação\n",
        "mask = Mask(mask)\n",
        "lena_erosion = dilation(mask, lena)\n",
        "cv2_imshow(lenat2)"
      ],
      "execution_count": null,
      "outputs": [
        {
          "output_type": "display_data",
          "data": {
            "image/png": "[encoded data removed]",
            "text/plain": [
              "<PIL.Image.Image image mode=L size=469x321 at 0x7FB299DB4590>"
            ]
          },
          "metadata": {}
        }
      ]
    },
    {
      "cell_type": "code",
      "metadata": {
        "colab": {
          "base_uri": "https://localhost:8080/",
          "height": 338
        },
        "id": "kO9-NY0MclcF",
        "outputId": "398d9669-31f0-475f-f6a4-c529471a0de8"
      },
      "source": [
        "# utilizando máscara 5x5 do numpy \n",
        "# processando dilatação da mesma imagem anterior com opencv\n",
        "kernel = np.ones((5,5),np.uint8)\n",
        "img_dilation = cv2.dilate(lena, kernel)\n",
        "cv2_imshow(img_dilation)"
      ],
      "execution_count": null,
      "outputs": [
        {
          "output_type": "display_data",
          "data": {
            "image/png": "[encoded data removed]",
            "text/plain": [
              "<PIL.Image.Image image mode=L size=469x321 at 0x7FB29B7A9510>"
            ]
          },
          "metadata": {}
        }
      ]
    },
    {
      "cell_type": "code",
      "metadata": {
        "colab": {
          "base_uri": "https://localhost:8080/",
          "height": 278
        },
        "id": "1WNwwBLSdvk6",
        "outputId": "07baaeb2-ec36-4f76-dd88-78823890e5b7"
      },
      "source": [
        "# utilizando máscara 3x3 com matriz em listas no python\n",
        "mask = [[1, 1, 1],\n",
        "        [1, 1, 1],\n",
        "        [1, 1, 1]]\n",
        "\n",
        "# fazendo operação de erosão\n",
        "mask = Mask(mask)\n",
        "coins_dilatation = dilation(mask, coins)\n",
        "cv2_imshow(coins_dilatation)"
      ],
      "execution_count": null,
      "outputs": [
        {
          "output_type": "display_data",
          "data": {
            "image/png": "[encoded data removed]",
            "text/plain": [
              "<PIL.Image.Image image mode=L size=203x261 at 0x7FB29B7A5D50>"
            ]
          },
          "metadata": {}
        }
      ]
    },
    {
      "cell_type": "code",
      "metadata": {
        "colab": {
          "base_uri": "https://localhost:8080/",
          "height": 278
        },
        "id": "RHU4-2JHd9VO",
        "outputId": "1407a938-ff85-4d15-e7b0-b259d679960a"
      },
      "source": [
        "# utilizando máscara 3x3 do numpy \n",
        "# processando erosão da mesma imagem anterior com opencv\n",
        "kernel = np.ones((3,3),np.uint8)\n",
        "coins_dilate = cv2.dilate(coins,kernel, iterations=1)\n",
        "cv2_imshow(coins_dilate)"
      ],
      "execution_count": null,
      "outputs": [
        {
          "output_type": "display_data",
          "data": {
            "image/png": "[encoded data removed]",
            "text/plain": [
              "<PIL.Image.Image image mode=L size=203x261 at 0x7FB29B6B6D50>"
            ]
          },
          "metadata": {}
        }
      ]
    },
    {
      "cell_type": "markdown",
      "metadata": {
        "id": "Q28U5YtbaTiT"
      },
      "source": [
        "## Abertura"
      ]
    },
    {
      "cell_type": "markdown",
      "metadata": {
        "id": "v5sb5VDbaXAp"
      },
      "source": [
        "* A operação de abertura é feita aplicando a operação de erosão e em seguida a de dilatação em uma imagem.\n"
      ]
    },
    {
      "cell_type": "code",
      "metadata": {
        "colab": {
          "base_uri": "https://localhost:8080/",
          "height": 294
        },
        "id": "JM69VOi1w5kR",
        "outputId": "dca544d8-e1d6-4cd6-ba69-be2ff0c98f31"
      },
      "source": [
        "# Utilizando técnica de abertura para imagem ruido com uma máscara de 5x5\n",
        "mask = [[1, 1, 1, 1, 1],\n",
        "        [1, 1, 1, 1, 1],\n",
        "        [1, 1, 1, 1, 1], \n",
        "        [1, 1, 1, 1, 1], \n",
        "        [1, 1, 1, 1, 1]]\n",
        "mask = Mask(mask)\n",
        "\n",
        "# fazendo operação de erosão\n",
        "result = erosion(mask, ruido)\n",
        "\n",
        "# fazendo operação de dilatação\n",
        "result = dilation(mask, result)\n",
        "\n",
        "# mostrando resultado\n",
        "cv2_imshow(result)"
      ],
      "execution_count": 188,
      "outputs": [
        {
          "output_type": "display_data",
          "data": {
            "image/png": "[encoded data removed]",
            "text/plain": [
              "<PIL.Image.Image image mode=L size=278x277 at 0x7FB2A0107DD0>"
            ]
          },
          "metadata": {}
        }
      ]
    },
    {
      "cell_type": "code",
      "metadata": {
        "colab": {
          "base_uri": "https://localhost:8080/",
          "height": 294
        },
        "id": "LIA-7-i0us1c",
        "outputId": "2e3569ae-375b-4ef7-e9cf-1a81c89222eb"
      },
      "source": [
        "# utilizando máscara 5x5 do numpy \n",
        "# processando imagem com técnica de abertura\n",
        "kernel = np.ones((5,5),np.uint8)\n",
        "result = cv2.morphologyEx(ruido, cv2.MORPH_OPEN, kernel)\n",
        "cv2_imshow(result)"
      ],
      "execution_count": 186,
      "outputs": [
        {
          "output_type": "display_data",
          "data": {
            "image/png": "[encoded data removed]",
            "text/plain": [
              "<PIL.Image.Image image mode=L size=278x277 at 0x7FB299CD8F50>"
            ]
          },
          "metadata": {}
        }
      ]
    },
    {
      "cell_type": "code",
      "metadata": {
        "colab": {
          "base_uri": "https://localhost:8080/",
          "height": 294
        },
        "id": "r5v7i68oyr7u",
        "outputId": "51a60fa7-daf3-4a70-e7cd-69d8c1e96b8c"
      },
      "source": [
        "# Utilizando técnica de abertura para imagem ruido com uma máscara de 3x3\n",
        "mask = [[1, 1, 1],\n",
        "        [1, 1, 1],\n",
        "        [1, 1, 1]]\n",
        "        \n",
        "mask = Mask(mask)\n",
        "\n",
        "# fazendo operação de erosão\n",
        "result = erosion(mask, ruido)\n",
        "\n",
        "# fazendo operação de dilatação\n",
        "result = dilation(mask, result)\n",
        "\n",
        "# mostrando resultado\n",
        "cv2_imshow(result)"
      ],
      "execution_count": 190,
      "outputs": [
        {
          "output_type": "display_data",
          "data": {
            "image/png": "[encoded data removed]",
            "text/plain": [
              "<PIL.Image.Image image mode=L size=278x277 at 0x7FB29B958510>"
            ]
          },
          "metadata": {}
        }
      ]
    },
    {
      "cell_type": "code",
      "metadata": {
        "colab": {
          "base_uri": "https://localhost:8080/",
          "height": 294
        },
        "id": "tJk3VOtMyti4",
        "outputId": "7728595d-878c-4371-c32e-401c96918ae4"
      },
      "source": [
        "# utilizando máscara 3x3 do numpy \n",
        "# processando imagem com técnica de abertura\n",
        "kernel = np.ones((3,3),np.uint8)\n",
        "result = cv2.morphologyEx(ruido, cv2.MORPH_OPEN, kernel)\n",
        "cv2_imshow(result)"
      ],
      "execution_count": 191,
      "outputs": [
        {
          "output_type": "display_data",
          "data": {
            "image/png": "[encoded data removed]",
            "text/plain": [
              "<PIL.Image.Image image mode=L size=278x277 at 0x7FB299DBB650>"
            ]
          },
          "metadata": {}
        }
      ]
    },
    {
      "cell_type": "markdown",
      "metadata": {
        "id": "0YGIlwC-atAV"
      },
      "source": [
        "## Fechamento"
      ]
    },
    {
      "cell_type": "markdown",
      "metadata": {
        "id": "-dCa78kBaqor"
      },
      "source": [
        "* A operação de fechamento é feita aplicando uma operação de dilatação e em seguida de erosão em uma imagem."
      ]
    },
    {
      "cell_type": "code",
      "metadata": {
        "colab": {
          "base_uri": "https://localhost:8080/",
          "height": 294
        },
        "id": "-hFHJYM5y6Dl",
        "outputId": "b098860a-9fdf-48b1-dda1-7997bc6ecce6"
      },
      "source": [
        "# Utilizando técnica de abertura para imagem ruido com uma máscara de 5x5\n",
        "mask = [[1, 1, 1, 1, 1],\n",
        "        [1, 1, 1, 1, 1],\n",
        "        [1, 1, 1, 1, 1], \n",
        "        [1, 1, 1, 1, 1], \n",
        "        [1, 1, 1, 1, 1]]\n",
        "mask = Mask(mask)\n",
        "\n",
        "# fazendo operação de dilatação\n",
        "result = dilation(mask, ruido)\n",
        "\n",
        "# fazendo operação de erosão\n",
        "result = erosion(mask, result)\n",
        "\n",
        "# mostrando resultado\n",
        "cv2_imshow(result)"
      ],
      "execution_count": 198,
      "outputs": [
        {
          "output_type": "display_data",
          "data": {
            "image/png": "[encoded data removed]",
            "text/plain": [
              "<PIL.Image.Image image mode=L size=278x277 at 0x7FB299DDA310>"
            ]
          },
          "metadata": {}
        }
      ]
    },
    {
      "cell_type": "code",
      "metadata": {
        "colab": {
          "base_uri": "https://localhost:8080/",
          "height": 294
        },
        "id": "uA1q4GsFzQIf",
        "outputId": "f5449983-c27a-4829-fadb-37a9bf65c246"
      },
      "source": [
        "# utilizando máscara 3x3 do numpy \n",
        "# processando imagem com técnica de abertura\n",
        "kernel = np.ones((5,5),np.uint8)\n",
        "result = cv2.morphologyEx(ruido, cv2.MORPH_CLOSE, kernel)\n",
        "cv2_imshow(result)"
      ],
      "execution_count": 196,
      "outputs": [
        {
          "output_type": "display_data",
          "data": {
            "image/png": "[encoded data removed]",
            "text/plain": [
              "<PIL.Image.Image image mode=L size=278x277 at 0x7FB299D0EE50>"
            ]
          },
          "metadata": {}
        }
      ]
    },
    {
      "cell_type": "code",
      "metadata": {
        "colab": {
          "base_uri": "https://localhost:8080/",
          "height": 294
        },
        "id": "ipEZyqrb1aKd",
        "outputId": "c835b47a-3db0-4732-95df-732892f6404b"
      },
      "source": [
        "# Utilizando técnica de abertura para imagem ruido com uma máscara de 5x5\n",
        "mask = [[1, 1, 1],\n",
        "        [1, 1, 1],\n",
        "        [1, 1, 1]]\n",
        "        \n",
        "mask = Mask(mask)\n",
        "\n",
        "# fazendo operação de dilatação\n",
        "result = dilation(mask, ruido)\n",
        "\n",
        "# fazendo operação de erosão\n",
        "result = erosion(mask, result)\n",
        "\n",
        "# mostrando resultado\n",
        "cv2_imshow(result)"
      ],
      "execution_count": 199,
      "outputs": [
        {
          "output_type": "display_data",
          "data": {
            "image/png": "[encoded data removed]",
            "text/plain": [
              "<PIL.Image.Image image mode=L size=278x277 at 0x7FB299DDADD0>"
            ]
          },
          "metadata": {}
        }
      ]
    },
    {
      "cell_type": "markdown",
      "metadata": {
        "id": "Ee2vUyOlQK3J"
      },
      "source": [
        "## Implementações extras"
      ]
    },
    {
      "cell_type": "markdown",
      "metadata": {
        "id": "DWOq7vbkQPEG"
      },
      "source": [
        "\n",
        "\n",
        "*   Melhorar a complexidade das funções implementadas.\n",
        "*   Preparar técnicas como filtragem morfológica, extração de fronteira, etc.\n",
        "\n"
      ]
    }
  ]
}